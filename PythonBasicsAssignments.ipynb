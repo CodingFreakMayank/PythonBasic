{
  "nbformat": 4,
  "nbformat_minor": 0,
  "metadata": {
    "colab": {
      "provenance": []
    },
    "kernelspec": {
      "name": "python3",
      "display_name": "Python 3"
    },
    "language_info": {
      "name": "python"
    }
  },
  "cells": [
    {
      "cell_type": "markdown",
      "source": [
        "Python Basics Assignments"
      ],
      "metadata": {
        "id": "lfgEbt8RfN6P"
      }
    },
    {
      "cell_type": "markdown",
      "source": [
        "Q-1.  What is Python, and why is it popular ?\n",
        "\n",
        "Ans. Python is an interpreted programming language which is used in various tasks such as web development, data science, machine learning, automation, game development, etc.\n",
        "    It is popular because of it has number of libraries and huge active community. It is easy to learn and versatile"
      ],
      "metadata": {
        "id": "6HXcgwNRfns0"
      }
    },
    {
      "cell_type": "markdown",
      "source": [
        "Q-2. What is an interpreter in Python?\n",
        "\n",
        "Ans. Interpreter in python read and execute python line by line."
      ],
      "metadata": {
        "id": "3BOUPuwbg2R_"
      }
    },
    {
      "cell_type": "markdown",
      "source": [
        "Q-3. What are pre-defined keywords in Python ?\n",
        "\n",
        "Ans. Python pre-defined keywords are reserved in python which are used to perform certain tasks such as print, input, int,str etc."
      ],
      "metadata": {
        "id": "Q4IXsSaQhX6o"
      }
    },
    {
      "cell_type": "markdown",
      "source": [
        "Q-4. Can keywords be used as variable names ?\n",
        "\n",
        "Ans. No , keywords can not be used as variable names."
      ],
      "metadata": {
        "id": "ihHmU8zyh0ln"
      }
    },
    {
      "cell_type": "markdown",
      "source": [
        "Q-5. What is mutability in Python ?\n",
        "\n",
        "Ans. Mutability in python allows modification of variable after it's creation. Data type like Set and list are example of mutable data type."
      ],
      "metadata": {
        "id": "8jHyLciDh_Q9"
      }
    },
    {
      "cell_type": "markdown",
      "source": [
        "Q-6. Why are lists mutable, but tuples are immutable ?\n",
        "\n",
        "Ans- lists are meant to flexible.We can add, remove or change the values in list so they are mutable while tuples are meant to fixed. their value can not be modified after creation so they are immutable."
      ],
      "metadata": {
        "id": "mU7nmpR4iZpU"
      }
    },
    {
      "cell_type": "markdown",
      "source": [
        "Q-7. What is the difference between “==” and “is” operators in Python ?\n",
        "\n",
        "Ans. \"==\" operator checks if two values are equal while \"is\" operator checks if two variable point to the same object in memory. \"==\" compare only the values of the variable while \"is\" compairs the memory location."
      ],
      "metadata": {
        "id": "kTx_h8XsjIXj"
      }
    },
    {
      "cell_type": "markdown",
      "source": [
        "Q-8. What are logical operators in Python ?\n",
        "\n",
        "Ans. Logical operators are used in python to combine two or more \"true\" or \"false\" conditions. these are \"and\" , \"or\" , \"not\". 'and' operator check if both condition is true, 'or' checks if either of conditon is true. 'not' reverses the result of the argument."
      ],
      "metadata": {
        "id": "ldl10rLJkFPT"
      }
    },
    {
      "cell_type": "markdown",
      "source": [
        "Q-9. What is type casting in Python ?\n",
        "\n",
        "Ans. Changing one type of data into another type is known as type casting. such as string can be changed into int type using int() function."
      ],
      "metadata": {
        "id": "DUmDnVmwlKH1"
      }
    },
    {
      "cell_type": "markdown",
      "source": [
        "Q-10. What is the difference between implicit and explicit type casting ?\n",
        "\n",
        "Ans. Implicit type casting is automatically done by python itself. while explicit typecasting is done by user by using specific function like int() etc.\n",
        "for example- when an int value and float value is added together result is  type casted into int data type by python automatically."
      ],
      "metadata": {
        "id": "VqscoNxvlnrz"
      }
    },
    {
      "cell_type": "markdown",
      "source": [
        "Q-11. What is the purpose of conditional statements in Python ?\n",
        "\n",
        "Ans. Conditional statements is used when a certain task needs to be performed only when some conditons are met. \"if-else\" statement is conditional statement. when if checks the condition and if return True then code under if is executed and if its false then code under else is executed."
      ],
      "metadata": {
        "id": "-PQXJk3jmWV5"
      }
    },
    {
      "cell_type": "markdown",
      "source": [
        "Q-12. How does the elif statement work ?\n",
        "\n",
        "Ans. elif statement is extension of if-else statement. if we want to check another condition only when if condition falls false then we use elif to check another condition."
      ],
      "metadata": {
        "id": "WAdz-GBAnV6U"
      }
    },
    {
      "cell_type": "markdown",
      "source": [
        "Q-13. What is the difference between for and while loops?\n",
        "\n",
        "Ans- for go through every iteration in given range and execute task for that while \"while\" loop execute the code untill the given condition falls true.  "
      ],
      "metadata": {
        "id": "a9_KwtnToCSd"
      }
    },
    {
      "cell_type": "markdown",
      "source": [
        "Q-14. Describe a scenario where a while loop is more suitable than a for loop.\n",
        "\n",
        "Ans- When the number of times a loop will execute is not known then while loop is more suitable."
      ],
      "metadata": {
        "id": "Pbzj30Oeo7xX"
      }
    },
    {
      "cell_type": "markdown",
      "source": [],
      "metadata": {
        "id": "FgIYROQSpR62"
      }
    },
    {
      "cell_type": "code",
      "source": [
        "#Q-1.  Write a Python program to print \"Hello, World!\"\n",
        "print(\"Hello World!\")"
      ],
      "metadata": {
        "id": "0z1vvLBJp2Ok"
      },
      "execution_count": null,
      "outputs": []
    },
    {
      "cell_type": "code",
      "source": [
        "# Q-2. Write a Python program that displays your name and age\"\n",
        "name = \"Mayank Verma\"\n",
        "age = 27\n",
        "print(f\"Name - {name}\")\n",
        "print(f\"age - {age}\")"
      ],
      "metadata": {
        "colab": {
          "base_uri": "https://localhost:8080/"
        },
        "id": "BIBYJ-R2qTbI",
        "outputId": "2e4df9c8-67da-4411-956b-e11e462c1dd4"
      },
      "execution_count": null,
      "outputs": [
        {
          "output_type": "stream",
          "name": "stdout",
          "text": [
            "Name- Mayank Verma\n",
            "age-27\n"
          ]
        }
      ]
    },
    {
      "cell_type": "code",
      "source": [
        "# Q-3. Write code to print all the pre-defined keywords in Python using the keyword library\n",
        "import keyword\n",
        "print(keyword.kwlist)\n"
      ],
      "metadata": {
        "colab": {
          "base_uri": "https://localhost:8080/"
        },
        "id": "0UNGggz7rcg8",
        "outputId": "04bbf305-f12b-4718-eba5-c540542fa615"
      },
      "execution_count": null,
      "outputs": [
        {
          "output_type": "stream",
          "name": "stdout",
          "text": [
            "['False', 'None', 'True', 'and', 'as', 'assert', 'async', 'await', 'break', 'class', 'continue', 'def', 'del', 'elif', 'else', 'except', 'finally', 'for', 'from', 'global', 'if', 'import', 'in', 'is', 'lambda', 'nonlocal', 'not', 'or', 'pass', 'raise', 'return', 'try', 'while', 'with', 'yield']\n"
          ]
        }
      ]
    },
    {
      "cell_type": "code",
      "source": [
        "# Q-4 Write a program that checks if a given word is a Python keyword.\n",
        "import keyword\n",
        "keyList = keyword.kwlist\n",
        "word = input(\"Enter a word - \")\n",
        "if word in keyList:\n",
        "  print(f\"{word} is keyword\")\n",
        "else:\n",
        "  print(f\"{word} is not keyword\")\n"
      ],
      "metadata": {
        "colab": {
          "base_uri": "https://localhost:8080/"
        },
        "id": "zBbHWrEQscRG",
        "outputId": "742693fd-d4a4-485f-f56c-ee6bda821a4c"
      },
      "execution_count": null,
      "outputs": [
        {
          "output_type": "stream",
          "name": "stdout",
          "text": [
            "['False', 'None', 'True', 'and', 'as', 'assert', 'async', 'await', 'break', 'class', 'continue', 'def', 'del', 'elif', 'else', 'except', 'finally', 'for', 'from', 'global', 'if', 'import', 'in', 'is', 'lambda', 'nonlocal', 'not', 'or', 'pass', 'raise', 'return', 'try', 'while', 'with', 'yield']\n"
          ]
        }
      ]
    },
    {
      "cell_type": "code",
      "source": [
        "#Q-5. Create a list and tuple in Python, and demonstrate how attempting to change an element works differently for each.\n",
        "my_list = [1,2,3,4,5]\n",
        "my_tuple = (6,5,7,8,9)\n",
        "\n",
        "#changing element in list as lists are mutable it can be done directly\n",
        "my_list[0] = 100\n",
        "print(my_list)\n",
        "\n",
        "'''Changing element tuple can not be done directly as tuples are immutable. so inorder to change element in tuple it has to be converted into list temperorily'''\n",
        "temp_list = list(my_tuple)\n",
        "temp_list[0] = 600\n",
        "my_tuple = tuple(temp_list)\n",
        "print(my_tuple)"
      ],
      "metadata": {
        "colab": {
          "base_uri": "https://localhost:8080/"
        },
        "id": "HFQu2OyjvZFB",
        "outputId": "df64ed1e-cbd3-4892-d4db-0ad6841c555b"
      },
      "execution_count": null,
      "outputs": [
        {
          "output_type": "stream",
          "name": "stdout",
          "text": [
            "[100, 2, 3, 4, 5]\n",
            "(600, 5, 7, 8, 9)\n"
          ]
        }
      ]
    },
    {
      "cell_type": "code",
      "source": [
        "# Q-6. Write a function to demonstrate the behavior of mutable and immutable arguments.\n",
        "# for immutable (int) a remains same (10) while b changes 11\n",
        "a = 10\n",
        "b = a\n",
        "b = b+1\n",
        "print(a)\n",
        "print(b)\n",
        "\n",
        "# for mutable (list) a changes as well as b changes too\n",
        "x = [1,2,3]\n",
        "y = x\n",
        "y.append(100)\n",
        "\n",
        "print(x)\n",
        "print(y)"
      ],
      "metadata": {
        "id": "LYzwaPIZxtfZ",
        "colab": {
          "base_uri": "https://localhost:8080/"
        },
        "outputId": "31927d71-b249-4c42-9440-e24cbbebcdd4"
      },
      "execution_count": null,
      "outputs": [
        {
          "output_type": "stream",
          "name": "stdout",
          "text": [
            "10\n",
            "11\n",
            "[1, 2, 3, 100]\n",
            "[1, 2, 3, 100]\n"
          ]
        }
      ]
    },
    {
      "cell_type": "code",
      "source": [
        "#\n",
        "Q-7.  Write a program that performs basic arithmetic operations on two user-input numbers.\n",
        "\n",
        "x = int(input(\"Write first number- \\n\"))\n",
        "y = int(input(\"Write second number- \\n\"))\n",
        "\n",
        "#Addition\n",
        "add = x+y\n",
        "#Substraction\n",
        "sub = x-y\n",
        "#Multiplication\n",
        "multi = x*y\n",
        "#Divide\n",
        "divi = x/y\n",
        "# remainder\n",
        "remain = x%y\n",
        "#exponent\n",
        "pow= x**y\n",
        "#floor division\n",
        "fd = x//y\n",
        "\n",
        "print(\"Addition = \",add)\n",
        "print(\"Substraction = \",sub)\n",
        "print(\"Multiplication = \",multi)\n",
        "print(\"Divide = \",divi)\n",
        "print(\"remander = \",remain)\n",
        "print(\"exponent = \",pow)\n",
        "print(\"floor Division = \",fd)"
      ],
      "metadata": {
        "colab": {
          "base_uri": "https://localhost:8080/"
        },
        "id": "azG7rYHKFS8G",
        "outputId": "8cd1abe2-3784-4587-e9d9-50fe6e563e0d"
      },
      "execution_count": null,
      "outputs": [
        {
          "output_type": "stream",
          "name": "stdout",
          "text": [
            "Write first number- \n",
            "20\n",
            "Write second number- \n",
            "2\n",
            "Addition =  22\n",
            "Substraction =  18\n",
            "Multiplication =  40\n",
            "Divide =  10.0\n",
            "remander =  0\n",
            "exponent =  400\n",
            "floor Division =  10\n"
          ]
        }
      ]
    },
    {
      "cell_type": "code",
      "source": [
        "#Q-8 Write a program to demonstrate the use of logical operators.\n",
        "#Use of And operator- if age is 18+ and has voter id then allowed to vote.\n",
        "Age = int(input(\"Wrhat's your age- \\n\"))\n",
        "has_voterid = input(\"Do you have voter id (Yes/No) -\")\n",
        "if has_voterid.lower() == 'yes':\n",
        "  voterid = True\n",
        "else:\n",
        "  voterid = False\n",
        "\n",
        "if Age >18 and voterid == True:\n",
        "  print(\"You are allowed to vote\")\n",
        "else:\n",
        "  print(\"You are not allowed to vote\")\n",
        "\n",
        "#use of 'or' operator - user should have either voter id or passport to enter the premises.\n",
        "\n",
        "has_voterid = input(\"Do you have voter id (Yes/No) -\")\n",
        "if has_voterid.lower() == 'yes':\n",
        "  voterid = True\n",
        "else:\n",
        "  voterid = False\n",
        "\n",
        "\n",
        "has_passport = input(\"Do you have passport (Yes/No) -\")\n",
        "if has_passport.lower() == 'yes':\n",
        "  passport = True\n",
        "else:\n",
        "  passport = False\n",
        "\n",
        "if passport == True or voterid == True:\n",
        "  print(\"You are allowed to enter\")\n",
        "else:\n",
        "  print(\"You are not allowed to enter\")"
      ],
      "metadata": {
        "colab": {
          "base_uri": "https://localhost:8080/"
        },
        "id": "ElYJrl0yDnZo",
        "outputId": "f8bf4ffe-92b2-4427-d810-fd0d3d35a6dc"
      },
      "execution_count": null,
      "outputs": [
        {
          "output_type": "stream",
          "name": "stdout",
          "text": [
            "Wrhat's your age- \n",
            "10\n",
            "Do you have voter id (Yes/No) -yes\n",
            "You are not allowed to vote\n",
            "Do you have voter id (Yes/No) -no\n",
            "Do you have passport (Yes/No) -no\n",
            "You are not allowed to enter\n"
          ]
        }
      ]
    },
    {
      "cell_type": "code",
      "source": [
        "#Q-9 Write a Python program to convert user input from string to integer, float, and boolean types.\n",
        "userint = int(input(\"Enter your Age- \\n\")) #converted to int\n",
        "userfloat = float(input(\"Enter your height in cms- \\n\")) #converted to Float\n",
        "userbool = input(\"Do you have passport(Yes or No) - \\n\") #converted to bool\n",
        "if userbool.lower() == \"yes\":\n",
        "  userpass = True\n",
        "else:\n",
        "  userpass = False\n",
        "\n",
        "print(type(userint))\n",
        "print(type(userfloat))\n",
        "print(type(userpass))"
      ],
      "metadata": {
        "id": "b9BSDxRKZuuZ",
        "colab": {
          "base_uri": "https://localhost:8080/"
        },
        "outputId": "c4e4e3f1-7f80-4ee9-bbf5-117a61c38834"
      },
      "execution_count": null,
      "outputs": [
        {
          "output_type": "stream",
          "name": "stdout",
          "text": [
            "Enter your Age- \n",
            "20\n",
            "Enter your height in cms- \n",
            "173\n",
            "Do you have passport(Yes or No) - \n",
            "no\n",
            "<class 'int'>\n",
            "<class 'float'>\n",
            "<class 'bool'>\n"
          ]
        }
      ]
    },
    {
      "cell_type": "code",
      "source": [
        "#Q-10 .  Write code to demonstrate type casting with list elements.\n",
        "String_list = [\"1\",\"2\",\"3\",\"4\"]\n",
        "int_list = []\n",
        "for i in String_list:\n",
        "  int_list.append(int(i))\n",
        "\n",
        "print(String_list)\n",
        "print(int_list)"
      ],
      "metadata": {
        "id": "e9_WcRpBfMDj",
        "colab": {
          "base_uri": "https://localhost:8080/"
        },
        "outputId": "5f3b3eaf-f39f-46b3-fb56-d16a84e9ac08"
      },
      "execution_count": 21,
      "outputs": [
        {
          "output_type": "stream",
          "name": "stdout",
          "text": [
            "['1', '2', '3', '4']\n",
            "[1, 2, 3, 4]\n"
          ]
        }
      ]
    },
    {
      "cell_type": "code",
      "source": [
        "#Q-11. Write a program that checks if a number is positive, negative, or zero.\n",
        "num = int(input(\"Write a number- \\n\"))\n",
        "if num == 0:\n",
        "  print(num, \"is Negative\")\n",
        "elif num > 0:\n",
        "  print(num, \"is Positive\")\n",
        "else:\n",
        "  print(num, \"is Negative\")"
      ],
      "metadata": {
        "id": "bhFID5-TfW0m",
        "colab": {
          "base_uri": "https://localhost:8080/"
        },
        "outputId": "4c84aad2-bf48-468b-9468-f7f4b0a19a0f"
      },
      "execution_count": null,
      "outputs": [
        {
          "output_type": "stream",
          "name": "stdout",
          "text": [
            "Write a number- \n",
            "-5\n",
            "-5 is Negative\n"
          ]
        }
      ]
    },
    {
      "cell_type": "code",
      "source": [
        "#Q-12.  Write a for loop to print numbers from 1 to 10.\n",
        "for i in range(1,11):\n",
        "  print(i)\n"
      ],
      "metadata": {
        "id": "r89O8WzofZVl",
        "colab": {
          "base_uri": "https://localhost:8080/"
        },
        "outputId": "a27a27d5-f4cd-4c35-e8df-6d2084942518"
      },
      "execution_count": null,
      "outputs": [
        {
          "output_type": "stream",
          "name": "stdout",
          "text": [
            "1\n",
            "2\n",
            "3\n",
            "4\n",
            "5\n",
            "6\n",
            "7\n",
            "8\n",
            "9\n",
            "10\n"
          ]
        }
      ]
    },
    {
      "cell_type": "code",
      "source": [
        "#Q-13. Write a Python program to find the sum of all even numbers between 1 and 50.\n",
        "sum = 0\n",
        "for i in range(1, 51):\n",
        "  if i % 2 ==0:\n",
        "    sum = sum + i\n",
        "\n",
        "print(sum)"
      ],
      "metadata": {
        "id": "O11AYgpjffmE",
        "colab": {
          "base_uri": "https://localhost:8080/"
        },
        "outputId": "20ebe0da-3d3d-4210-9534-88bd127fbce1"
      },
      "execution_count": null,
      "outputs": [
        {
          "output_type": "stream",
          "name": "stdout",
          "text": [
            "650\n"
          ]
        }
      ]
    },
    {
      "cell_type": "code",
      "source": [
        "#Q-14. Write a program to reverse a string using a while loop.\n",
        "name = \"Mayank\"\n",
        "reversed_name = \"\"\n",
        "\n",
        "i = len(name) - 1\n",
        "while i >= 0:\n",
        "    reversed_name += name[i]\n",
        "    i -= 1\n",
        "\n",
        "print(\"Reversed:\", reversed_name)\n"
      ],
      "metadata": {
        "id": "SKLOn7HKfmGk",
        "colab": {
          "base_uri": "https://localhost:8080/"
        },
        "collapsed": true,
        "outputId": "a05c3f9b-1852-4559-a385-8a6e62aac40b"
      },
      "execution_count": 20,
      "outputs": [
        {
          "output_type": "stream",
          "name": "stdout",
          "text": [
            "Reversed: knayaM\n"
          ]
        }
      ]
    },
    {
      "cell_type": "code",
      "source": [
        "#Q- 15. Write a Python program to calculate the factorial of a number provided by the user using a while loop.\n",
        "num = int(input(\"Write the number - \\n\"))\n",
        "fact = 1\n",
        "i = 1\n",
        "while i <= num:\n",
        "  fact = i*fact\n",
        "  i = i + 1\n",
        "\n",
        "print(\"Factorial of the number\", num , \"is \", fact)"
      ],
      "metadata": {
        "id": "pJooN02PfusU",
        "colab": {
          "base_uri": "https://localhost:8080/"
        },
        "outputId": "dfa62d09-416a-4827-bc46-3e8744abaa64"
      },
      "execution_count": null,
      "outputs": [
        {
          "output_type": "stream",
          "name": "stdout",
          "text": [
            "Write the number - \n",
            "5\n",
            "Factorial of the number 5 is  120\n"
          ]
        }
      ]
    }
  ]
}